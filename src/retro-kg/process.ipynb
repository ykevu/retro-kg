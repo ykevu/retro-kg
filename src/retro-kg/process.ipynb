{
 "cells": [
  {
   "cell_type": "code",
   "execution_count": 1,
   "metadata": {},
   "outputs": [],
   "source": [
    "import numpy as np\n",
    "import json\n",
    "from scipy import sparse\n",
    "from rdkit import Chem, DataStructs\n",
    "from rdkit.Chem import AllChem\n",
    "from tqdm import tqdm"
   ]
  },
  {
   "cell_type": "code",
   "execution_count": 2,
   "metadata": {},
   "outputs": [],
   "source": [
    "# Load data/train_rxns_with_template.jsonl\n",
    "with open('data/train_rxns_with_template.jsonl', 'r') as f:\n",
    "    train_rxns = [json.loads(line) for line in f]\n",
    "# Load data/val_rxns_with_template.jsonl\n",
    "with open('data/val_rxns_with_template.jsonl', 'r') as f:\n",
    "    val_rxns = [json.loads(line) for line in f]\n",
    "# Load data/templates.jsonl\n",
    "with open('data/templates.jsonl', 'r') as f:\n",
    "    templates = [json.loads(line) for line in f]"
   ]
  },
  {
   "cell_type": "code",
   "execution_count": 3,
   "metadata": {},
   "outputs": [],
   "source": [
    "def clear_atom_map(smi):\n",
    "    mol = Chem.MolFromSmiles(smi)\n",
    "    for atom in mol.GetAtoms():\n",
    "        atom.SetAtomMapNum(0)\n",
    "    return Chem.CanonSmiles(Chem.MolToSmiles(mol))"
   ]
  },
  {
   "cell_type": "code",
   "execution_count": 4,
   "metadata": {},
   "outputs": [
    {
     "data": {
      "text/plain": [
       "{'class': '2',\n",
       " 'id': 'US20120114765A1',\n",
       " 'rxn_smiles': 'O[C:1](=[O:2])[c:3]1[cH:4][c:5]([N+:6](=[O:7])[O-:8])[c:9]([S:10][c:11]2[c:12]([Cl:13])[cH:14][n:15][cH:16][c:17]2[Cl:18])[s:19]1.[NH2:20][c:21]1[cH:22][cH:23][cH:24][c:25]2[cH:26][n:27][cH:28][cH:29][c:30]12>>[O:2]=[C:1]([NH:20][c:21]1[cH:22][cH:23][cH:24][c:25]2[cH:26][n:27][cH:28][cH:29][c:30]12)[c:3]1[cH:4][c:5]([N+:6](=[O:7])[O-:8])[c:9]([S:10][c:11]2[c:12]([Cl:13])[cH:14][n:15][cH:16][c:17]2[Cl:18])[s:19]1',\n",
       " 'canon_reaction_smarts': '[#16&a:4]:[c:3]-[C&H0&D3&+0:1](=[O&D1&H0:2])-[N&H1&D2&+0:5]-[c:6]>>O-[C&H0&D3&+0:1](=[O&D1&H0:2])-[c:3]:[#16&a:4].[N&H2&D1&+0:5]-[c:6]'}"
      ]
     },
     "execution_count": 4,
     "metadata": {},
     "output_type": "execute_result"
    }
   ],
   "source": [
    "train_rxns[1]"
   ]
  },
  {
   "cell_type": "code",
   "execution_count": 5,
   "metadata": {},
   "outputs": [
    {
     "name": "stderr",
     "output_type": "stream",
     "text": [
      " 35%|███▍      | 13858/39803 [00:10<00:20, 1270.13it/s]\n"
     ]
    },
    {
     "ename": "KeyboardInterrupt",
     "evalue": "",
     "output_type": "error",
     "traceback": [
      "\u001b[0;31m---------------------------------------------------------------------------\u001b[0m",
      "\u001b[0;31mKeyboardInterrupt\u001b[0m                         Traceback (most recent call last)",
      "Cell \u001b[0;32mIn[5], line 8\u001b[0m\n\u001b[1;32m      6\u001b[0m \u001b[38;5;28;01massert\u001b[39;00m \u001b[38;5;124m'\u001b[39m\u001b[38;5;124m.\u001b[39m\u001b[38;5;124m'\u001b[39m \u001b[38;5;129;01mnot\u001b[39;00m \u001b[38;5;129;01min\u001b[39;00m products\n\u001b[1;32m      7\u001b[0m product \u001b[38;5;241m=\u001b[39m clear_atom_map(products)\n\u001b[0;32m----> 8\u001b[0m reactants \u001b[38;5;241m=\u001b[39m [\u001b[43mclear_atom_map\u001b[49m\u001b[43m(\u001b[49m\u001b[43mreactant\u001b[49m\u001b[43m)\u001b[49m \u001b[38;5;28;01mfor\u001b[39;00m reactant \u001b[38;5;129;01min\u001b[39;00m reactants\u001b[38;5;241m.\u001b[39msplit(\u001b[38;5;124m'\u001b[39m\u001b[38;5;124m.\u001b[39m\u001b[38;5;124m'\u001b[39m)]\n\u001b[1;32m      9\u001b[0m \u001b[38;5;28;01mif\u001b[39;00m product \u001b[38;5;129;01mnot\u001b[39;00m \u001b[38;5;129;01min\u001b[39;00m unique_products:\n\u001b[1;32m     10\u001b[0m     unique_products[product] \u001b[38;5;241m=\u001b[39m \u001b[38;5;241m1\u001b[39m\n",
      "Cell \u001b[0;32mIn[3], line 5\u001b[0m, in \u001b[0;36mclear_atom_map\u001b[0;34m(smi)\u001b[0m\n\u001b[1;32m      3\u001b[0m \u001b[38;5;28;01mfor\u001b[39;00m atom \u001b[38;5;129;01min\u001b[39;00m mol\u001b[38;5;241m.\u001b[39mGetAtoms():\n\u001b[1;32m      4\u001b[0m     atom\u001b[38;5;241m.\u001b[39mSetAtomMapNum(\u001b[38;5;241m0\u001b[39m)\n\u001b[0;32m----> 5\u001b[0m \u001b[38;5;28;01mreturn\u001b[39;00m \u001b[43mChem\u001b[49m\u001b[38;5;241;43m.\u001b[39;49m\u001b[43mCanonSmiles\u001b[49m\u001b[43m(\u001b[49m\u001b[43mChem\u001b[49m\u001b[38;5;241;43m.\u001b[39;49m\u001b[43mMolToSmiles\u001b[49m\u001b[43m(\u001b[49m\u001b[43mmol\u001b[49m\u001b[43m)\u001b[49m\u001b[43m)\u001b[49m\n",
      "File \u001b[0;32m~/miniconda3/envs/retro-kg/lib/python3.12/site-packages/rdkit/Chem/__init__.py:117\u001b[0m, in \u001b[0;36mCanonSmiles\u001b[0;34m(smi, useChiral)\u001b[0m\n\u001b[1;32m    116\u001b[0m \u001b[38;5;28;01mdef\u001b[39;00m \u001b[38;5;21mCanonSmiles\u001b[39m(smi, useChiral\u001b[38;5;241m=\u001b[39m\u001b[38;5;241m1\u001b[39m):\n\u001b[0;32m--> 117\u001b[0m   m \u001b[38;5;241m=\u001b[39m \u001b[43mMolFromSmiles\u001b[49m\u001b[43m(\u001b[49m\u001b[43msmi\u001b[49m\u001b[43m)\u001b[49m\n\u001b[1;32m    118\u001b[0m   \u001b[38;5;28;01mreturn\u001b[39;00m MolToSmiles(m, useChiral)\n",
      "\u001b[0;31mKeyboardInterrupt\u001b[0m: "
     ]
    }
   ],
   "source": [
    "unique_products = {}\n",
    "unique_molecules = {}\n",
    "for rxn in tqdm(train_rxns):\n",
    "    rxn_smiles = rxn['rxn_smiles']\n",
    "    reactants, products = rxn_smiles.split('>>')\n",
    "    assert '.' not in products\n",
    "    product = clear_atom_map(products)\n",
    "    reactants = [clear_atom_map(reactant) for reactant in reactants.split('.')]\n",
    "    if product not in unique_products:\n",
    "        unique_products[product] = 1\n",
    "        unique_molecules[product] = 1\n",
    "    else:\n",
    "        unique_products[product] += 1\n",
    "        unique_molecules[product] += 1\n",
    "    for reactant in reactants:\n",
    "        if reactant not in unique_molecules:\n",
    "            unique_molecules[reactant] = 1\n",
    "        else:\n",
    "            unique_molecules[reactant] += 1"
   ]
  },
  {
   "cell_type": "code",
   "execution_count": 7,
   "metadata": {},
   "outputs": [],
   "source": [
    "template2idx = {template['reaction_smarts']: template['index'] for template in templates}"
   ]
  },
  {
   "cell_type": "code",
   "execution_count": 8,
   "metadata": {},
   "outputs": [
    {
     "name": "stderr",
     "output_type": "stream",
     "text": [
      "  0%|          | 0/39803 [00:00<?, ?it/s]"
     ]
    },
    {
     "name": "stderr",
     "output_type": "stream",
     "text": [
      "100%|██████████| 39803/39803 [00:31<00:00, 1266.72it/s]\n"
     ]
    }
   ],
   "source": [
    "triplets = []\n",
    "for rxn in tqdm(train_rxns):\n",
    "    rxn_smiles = rxn['rxn_smiles']\n",
    "    template = rxn['canon_reaction_smarts']\n",
    "    reactants, products = rxn_smiles.split('>>')\n",
    "    assert '.' not in products\n",
    "    reactants = [clear_atom_map(reactant) for reactant in reactants.split('.')]\n",
    "    product = clear_atom_map(products)\n",
    "    template_idx = template2idx[template]\n",
    "    for reactant in reactants:\n",
    "        triplets.append((reactant, template_idx, product))\n",
    "\n",
    "# corrupted_triplets = []\n",
    "# for rxn in tqdm(corrupted_rxns):\n",
    "#     rxn_smiles = rxn['rxn_smiles']\n",
    "#     template = rxn['canon_reaction_smarts']\n",
    "#     reactants, products = rxn_smiles.split('>>')\n",
    "#     assert '.' not in products\n",
    "#     reactants = [clear_atom_map(reactant) for reactant in reactants.split('.')]\n",
    "#     product = clear_atom_map(products)\n",
    "#     template_idx = template2idx[template]\n",
    "#     for reactant in reactants:\n",
    "#         corrupted_triplets.append((reactant, template_idx, product))"
   ]
  },
  {
   "cell_type": "code",
   "execution_count": 9,
   "metadata": {},
   "outputs": [
    {
     "data": {
      "text/plain": [
       "('COC(=O)[C@H](CCCCNC(=O)OCc1ccccc1)NC(=O)Nc1cc(OC)cc(C(C)(C)C)c1O',\n",
       " 93,\n",
       " 'COC(=O)[C@H](CCCCN)NC(=O)Nc1cc(OC)cc(C(C)(C)C)c1O')"
      ]
     },
     "execution_count": 9,
     "metadata": {},
     "output_type": "execute_result"
    }
   ],
   "source": [
    "triplets[0]"
   ]
  },
  {
   "cell_type": "code",
   "execution_count": 10,
   "metadata": {},
   "outputs": [
    {
     "data": {
      "text/plain": [
       "68117"
      ]
     },
     "execution_count": 10,
     "metadata": {},
     "output_type": "execute_result"
    }
   ],
   "source": [
    "len(triplets)"
   ]
  },
  {
   "cell_type": "code",
   "execution_count": 14,
   "metadata": {},
   "outputs": [
    {
     "name": "stderr",
     "output_type": "stream",
     "text": [
      "100%|██████████| 68117/68117 [00:16<00:00, 4109.98it/s]\n"
     ]
    }
   ],
   "source": [
    "head_fps = []\n",
    "relation_ids = []\n",
    "relation_fps = []\n",
    "tail_fps = []\n",
    "for triplet in tqdm(triplets):\n",
    "    reactant, template, product = triplet\n",
    "    mol = Chem.MolFromSmiles(product)\n",
    "    fp = AllChem.GetMorganFingerprintAsBitVect(mol, 2, nBits=2048)\n",
    "    head_fps.append(fp)\n",
    "    relation_ids.append(template)\n",
    "    mol = Chem.MolFromSmiles(reactant)\n",
    "    fp = AllChem.GetMorganFingerprintAsBitVect(mol, 2, nBits=2048)\n",
    "    tail_fps.append(fp)\n",
    "head_fps = np.array(head_fps)\n",
    "relation_fps = np.array(relation_fps)\n",
    "tail_fps = np.array(tail_fps)"
   ]
  },
  {
   "cell_type": "code",
   "execution_count": 49,
   "metadata": {},
   "outputs": [
    {
     "name": "stderr",
     "output_type": "stream",
     "text": [
      "100%|██████████| 408702/408702 [00:55<00:00, 7344.58it/s]\n"
     ]
    }
   ],
   "source": [
    "from multiprocessing import Pool\n",
    "\n",
    "corrupted_head_fps = []\n",
    "corrupted_relation_ids = []\n",
    "corrupted_tail_fps = []\n",
    "\n",
    "def process_triplet(triplet):\n",
    "    reactant, template_idx, product = triplet\n",
    "    head_mol = Chem.MolFromSmiles(product)\n",
    "    head_fp = np.array(AllChem.GetMorganFingerprintAsBitVect(head_mol, 2, nBits=2048))\n",
    "    tail_mol = Chem.MolFromSmiles(reactant)\n",
    "    tail_fp = np.array(AllChem.GetMorganFingerprintAsBitVect(tail_mol, 2, nBits=2048))\n",
    "    return head_fp, template_idx, tail_fp\n",
    "\n",
    "with Pool(16) as pool:\n",
    "    results = list(tqdm(pool.imap(process_triplet, corrupted_triplets), total=len(corrupted_triplets)))\n",
    "    corrupted_head_fps = []\n",
    "    corrupted_relation_ids = []\n",
    "    corrupted_tail_fps = []\n",
    "    for head_fp, relation_id, tail_fp in results:\n",
    "        corrupted_head_fps.append(head_fp)\n",
    "        corrupted_relation_ids.append(relation_id)\n",
    "        corrupted_tail_fps.append(tail_fp)\n",
    "\n",
    "corrupted_head_fps = np.array(corrupted_head_fps)\n",
    "corrupted_relation_ids = np.array(corrupted_relation_ids)\n",
    "corrupted_tail_fps = np.array(corrupted_tail_fps)"
   ]
  },
  {
   "cell_type": "code",
   "execution_count": 15,
   "metadata": {},
   "outputs": [
    {
     "name": "stderr",
     "output_type": "stream",
     "text": [
      "  3%|▎         | 2524/82006 [00:00<00:09, 8356.80it/s]"
     ]
    },
    {
     "name": "stderr",
     "output_type": "stream",
     "text": [
      "100%|██████████| 82006/82006 [00:11<00:00, 7261.96it/s]\n"
     ]
    }
   ],
   "source": [
    "unique_molecules_lst = list(unique_molecules.keys())\n",
    "all_fps = []\n",
    "for product in tqdm(unique_molecules_lst):\n",
    "    mol = Chem.MolFromSmiles(product)\n",
    "    fp = AllChem.GetMorganFingerprintAsBitVect(mol, 2, nBits=2048)\n",
    "    all_fps.append(fp)\n",
    "all_fps = np.array(all_fps)"
   ]
  },
  {
   "cell_type": "code",
   "execution_count": 16,
   "metadata": {},
   "outputs": [],
   "source": [
    "# Save all product fps\n",
    "np.save('data/molecule_fps.npy', all_fps)"
   ]
  },
  {
   "cell_type": "code",
   "execution_count": 17,
   "metadata": {},
   "outputs": [],
   "source": [
    "# Save head_fps, relation_ids, tail_fps, corrupted_tail_fps\n",
    "np.save('data/train_head_fps.npy', head_fps)\n",
    "np.save('data/train_relation_ids.npy', relation_ids)\n",
    "np.save('data/train_tail_fps.npy', tail_fps)\n",
    "# np.save('data/train_corrupted_head_fps.npy', corrupted_head_fps)\n",
    "# np.save('data/train_corrupted_relation_ids.npy', corrupted_relation_ids)\n",
    "# np.save('data/train_corrupted_tail_fps.npy', corrupted_tail_fps)"
   ]
  },
  {
   "cell_type": "code",
   "execution_count": 11,
   "metadata": {},
   "outputs": [],
   "source": [
    "# Load data/val_rxns_with_template.jsonl\n",
    "with open('data/val_rxns_with_template.jsonl', 'r') as f:\n",
    "    val_rxns = [json.loads(line) for line in f]"
   ]
  },
  {
   "cell_type": "code",
   "execution_count": 12,
   "metadata": {},
   "outputs": [
    {
     "name": "stderr",
     "output_type": "stream",
     "text": [
      "  0%|          | 0/5001 [00:00<?, ?it/s]"
     ]
    },
    {
     "name": "stderr",
     "output_type": "stream",
     "text": [
      "100%|██████████| 5001/5001 [00:04<00:00, 1215.80it/s]\n"
     ]
    }
   ],
   "source": [
    "val_triplets = []\n",
    "for rxn in tqdm(val_rxns):\n",
    "    rxn_smiles = rxn['rxn_smiles']\n",
    "    template = rxn['canon_reaction_smarts']\n",
    "    reactants, products = rxn_smiles.split('>>')\n",
    "    assert '.' not in products\n",
    "    reactants = [clear_atom_map(reactant) for reactant in reactants.split('.')]\n",
    "    product = clear_atom_map(products)\n",
    "    if template in template2idx:\n",
    "        template_idx = template2idx[template]\n",
    "    else:\n",
    "        template_idx = -1\n",
    "    for reactant in reactants:\n",
    "        val_triplets.append((reactant, template_idx, product))"
   ]
  },
  {
   "cell_type": "code",
   "execution_count": 20,
   "metadata": {},
   "outputs": [
    {
     "data": {
      "text/plain": [
       "('O=C(OC(=O)C(F)(F)F)C(F)(F)F',\n",
       " 330,\n",
       " 'O=C(Nc1ccc(Oc2ccnc3[nH]ccc23)c(F)c1)C(F)(F)F')"
      ]
     },
     "execution_count": 20,
     "metadata": {},
     "output_type": "execute_result"
    }
   ],
   "source": [
    "val_triplets[0]"
   ]
  },
  {
   "cell_type": "code",
   "execution_count": 13,
   "metadata": {},
   "outputs": [
    {
     "data": {
      "text/plain": [
       "8561"
      ]
     },
     "execution_count": 13,
     "metadata": {},
     "output_type": "execute_result"
    }
   ],
   "source": [
    "len(val_triplets)"
   ]
  },
  {
   "cell_type": "code",
   "execution_count": 23,
   "metadata": {},
   "outputs": [
    {
     "name": "stderr",
     "output_type": "stream",
     "text": [
      "  0%|          | 0/8561 [00:00<?, ?it/s]"
     ]
    },
    {
     "name": "stderr",
     "output_type": "stream",
     "text": [
      "100%|██████████| 8561/8561 [00:02<00:00, 4069.03it/s]\n"
     ]
    }
   ],
   "source": [
    "val_head_fps = []\n",
    "val_relation_ids = []\n",
    "val_tail_fps = []\n",
    "for triplet in tqdm(val_triplets):\n",
    "    reactant, template_idx, product = triplet\n",
    "    mol = Chem.MolFromSmiles(product)\n",
    "    fp = AllChem.GetMorganFingerprintAsBitVect(mol, 2, nBits=2048)\n",
    "    val_head_fps.append(fp)\n",
    "    val_relation_ids.append(template_idx)\n",
    "    mol = Chem.MolFromSmiles(reactant)\n",
    "    fp = AllChem.GetMorganFingerprintAsBitVect(mol, 2, nBits=2048)\n",
    "    val_tail_fps.append(fp)\n",
    "val_head_fps = np.array(val_head_fps)\n",
    "val_relation_ids = np.array(val_relation_ids)\n",
    "val_tail_fps = np.array(val_tail_fps)"
   ]
  },
  {
   "cell_type": "code",
   "execution_count": 24,
   "metadata": {},
   "outputs": [],
   "source": [
    "# Save val_head_fps, val_relation_ids, val_tail_fps\n",
    "np.save('data/val_head_fps.npy', val_head_fps)\n",
    "np.save('data/val_relation_ids.npy', val_relation_ids)\n",
    "np.save('data/val_tail_fps.npy', val_tail_fps)"
   ]
  },
  {
   "cell_type": "code",
   "execution_count": 26,
   "metadata": {},
   "outputs": [
    {
     "data": {
      "text/plain": [
       "10225"
      ]
     },
     "execution_count": 26,
     "metadata": {},
     "output_type": "execute_result"
    }
   ],
   "source": [
    "len(templates)"
   ]
  },
  {
   "cell_type": "code",
   "execution_count": null,
   "metadata": {},
   "outputs": [],
   "source": []
  }
 ],
 "metadata": {
  "kernelspec": {
   "display_name": "retro-kg",
   "language": "python",
   "name": "python3"
  },
  "language_info": {
   "codemirror_mode": {
    "name": "ipython",
    "version": 3
   },
   "file_extension": ".py",
   "mimetype": "text/x-python",
   "name": "python",
   "nbconvert_exporter": "python",
   "pygments_lexer": "ipython3",
   "version": "3.12.3"
  }
 },
 "nbformat": 4,
 "nbformat_minor": 2
}
